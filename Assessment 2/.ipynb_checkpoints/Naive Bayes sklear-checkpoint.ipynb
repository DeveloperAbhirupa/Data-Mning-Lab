{
 "cells": [
  {
   "cell_type": "code",
   "execution_count": 1,
   "metadata": {},
   "outputs": [],
   "source": [
    "import pandas as pd\n",
    "import numpy as np\n",
    "import matplotlib.pyplot as plt\n",
    "dataMain = pd.read_csv('data.csv')"
   ]
  },
  {
   "cell_type": "code",
   "execution_count": 2,
   "metadata": {},
   "outputs": [
    {
     "name": "stdout",
     "output_type": "stream",
     "text": [
      "  Weather Temperature Humidity  Wind Golf Play\n",
      "0    fine         hot     high  none        no\n",
      "1    fine         hot     high   few        no\n",
      "2   cloud         hot     high  none       yes\n",
      "3    rain        warm     high  none       yes\n",
      "4    rain        cold   medium  none       yes\n",
      "5    rain        cold   medium   few        no\n",
      "6   cloud        cold   medium   few       yes\n",
      "7    fine        warm     high  none        no\n",
      "8    fine        cold   medium  none       yes\n",
      "9    rain        warm   medium  none       yes\n"
     ]
    }
   ],
   "source": [
    "dataMain.head(10)\n",
    "data=dataMain.head(10)\n",
    "print(data)\n"
   ]
  },
  {
   "cell_type": "code",
   "execution_count": 15,
   "metadata": {},
   "outputs": [
    {
     "name": "stdout",
     "output_type": "stream",
     "text": [
      "[1 1 0 2 2 2 0 1 1 2]\n",
      "[1 1 1 2 0 0 0 2 0 2]\n",
      "[0 0 0 0 1 1 1 0 1 1]\n",
      "[1 0 1 1 1 0 0 1 1 1]\n",
      "[0 0 1 1 1 0 1 0 1 1]\n",
      "<zip object at 0x7fe9b412e608>\n"
     ]
    }
   ],
   "source": [
    "# Import LabelEncoder\n",
    "from sklearn import preprocessing\n",
    "#creating labelEncoder\n",
    "le = preprocessing.LabelEncoder()\n",
    "# Converting string labels into numbers.\n",
    "wE=le.fit_transform(data['Weather'])\n",
    "print (wE)\n",
    "tE=le.fit_transform(data['Temperature'])\n",
    "print (tE)\n",
    "hE=le.fit_transform(data['Humidity'])\n",
    "print (hE)\n",
    "wnE=le.fit_transform(data['Wind'])\n",
    "print (wnE)\n",
    "gE=le.fit_transform(data['Golf Play'])\n",
    "print (gE)\n",
    "data0=zip(wE,tE,hE,wnE,gE)\n",
    "print(data0)"
   ]
  },
  {
   "cell_type": "code",
   "execution_count": 16,
   "metadata": {},
   "outputs": [
    {
     "ename": "AttributeError",
     "evalue": "'zip' object has no attribute 'values'",
     "output_type": "error",
     "traceback": [
      "\u001b[0;31m---------------------------------------------------------------------------\u001b[0m",
      "\u001b[0;31mAttributeError\u001b[0m                            Traceback (most recent call last)",
      "\u001b[0;32m<ipython-input-16-ed6c88d012e8>\u001b[0m in \u001b[0;36m<module>\u001b[0;34m()\u001b[0m\n\u001b[1;32m      1\u001b[0m \u001b[0;32mfrom\u001b[0m \u001b[0msklearn\u001b[0m\u001b[0;34m.\u001b[0m\u001b[0mmodel_selection\u001b[0m \u001b[0;32mimport\u001b[0m \u001b[0mtrain_test_split\u001b[0m\u001b[0;34m\u001b[0m\u001b[0;34m\u001b[0m\u001b[0m\n\u001b[0;32m----> 2\u001b[0;31m \u001b[0mvar\u001b[0m\u001b[0;34m=\u001b[0m\u001b[0mdata0\u001b[0m\u001b[0;34m.\u001b[0m\u001b[0mvalues\u001b[0m\u001b[0;34m[\u001b[0m\u001b[0;34m:\u001b[0m\u001b[0;34m,\u001b[0m\u001b[0;36m0\u001b[0m\u001b[0;34m:\u001b[0m\u001b[0;36m4\u001b[0m\u001b[0;34m]\u001b[0m\u001b[0;34m\u001b[0m\u001b[0;34m\u001b[0m\u001b[0m\n\u001b[0m\u001b[1;32m      3\u001b[0m \u001b[0mtar\u001b[0m\u001b[0;34m=\u001b[0m\u001b[0mdata0\u001b[0m\u001b[0;34m.\u001b[0m\u001b[0mvalues\u001b[0m\u001b[0;34m[\u001b[0m\u001b[0;34m:\u001b[0m\u001b[0;34m,\u001b[0m\u001b[0;36m4\u001b[0m\u001b[0;34m]\u001b[0m\u001b[0;34m\u001b[0m\u001b[0;34m\u001b[0m\u001b[0m\n\u001b[1;32m      4\u001b[0m \u001b[0;31m#     tar=tar.reshape(-1, 1)\u001b[0m\u001b[0;34m\u001b[0m\u001b[0;34m\u001b[0m\u001b[0;34m\u001b[0m\u001b[0m\n\u001b[1;32m      5\u001b[0m \u001b[0;31m#Splitting the data\u001b[0m\u001b[0;34m\u001b[0m\u001b[0;34m\u001b[0m\u001b[0;34m\u001b[0m\u001b[0m\n",
      "\u001b[0;31mAttributeError\u001b[0m: 'zip' object has no attribute 'values'"
     ]
    }
   ],
   "source": [
    "from sklearn.model_selection import train_test_split\n",
    "var=data.values[:,0:4]\n",
    "tar=data.values[:,4]\n",
    "#     tar=tar.reshape(-1, 1)\n",
    "#Splitting the data\n",
    "var_train, var_test, tar_train, tar_test = train_test_split(var,tar, test_size = 0.3, random_state = 100) "
   ]
  },
  {
   "cell_type": "code",
   "execution_count": null,
   "metadata": {},
   "outputs": [],
   "source": [
    "#Import Gaussian Naive Bayes model\n",
    "from sklearn.naive_bayes import GaussianNB\n",
    "\n",
    "#Create a Gaussian Classifier\n",
    "model = GaussianNB()\n",
    "\n",
    "# Train the model using the training sets\n",
    "model.fit(features,label)\n"
   ]
  },
  {
   "cell_type": "code",
   "execution_count": null,
   "metadata": {},
   "outputs": [],
   "source": []
  }
 ],
 "metadata": {
  "kernelspec": {
   "display_name": "Python 3",
   "language": "python",
   "name": "python3"
  },
  "language_info": {
   "codemirror_mode": {
    "name": "ipython",
    "version": 3
   },
   "file_extension": ".py",
   "mimetype": "text/x-python",
   "name": "python",
   "nbconvert_exporter": "python",
   "pygments_lexer": "ipython3",
   "version": "3.7.1"
  }
 },
 "nbformat": 4,
 "nbformat_minor": 2
}
