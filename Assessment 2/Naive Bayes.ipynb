{
 "cells": [
  {
   "cell_type": "code",
   "execution_count": 6,
   "metadata": {},
   "outputs": [],
   "source": [
    "import pandas as pd\n",
    "import numpy as np\n",
    "import matplotlib.pyplot as plt\n",
    "dataMain = pd.read_csv('data.csv')"
   ]
  },
  {
   "cell_type": "code",
   "execution_count": 7,
   "metadata": {},
   "outputs": [
    {
     "name": "stdout",
     "output_type": "stream",
     "text": [
      "  Weather Temperature Humidity  Wind Golf Play\n",
      "0    fine         hot     high  none        no\n",
      "1    fine         hot     high   few        no\n",
      "2   cloud         hot     high  none       yes\n",
      "3    rain        warm     high  none       yes\n",
      "4    rain        cold   medium  none       yes\n",
      "5    rain        cold   medium   few        no\n",
      "6   cloud        cold   medium   few       yes\n",
      "7    fine        warm     high  none        no\n",
      "8    fine        cold   medium  none       yes\n",
      "9    rain        warm   medium  none       yes\n"
     ]
    }
   ],
   "source": [
    "dataMain.head(10)\n",
    "data=dataMain.head(10)\n",
    "print(data)\n"
   ]
  },
  {
   "cell_type": "code",
   "execution_count": 8,
   "metadata": {},
   "outputs": [
    {
     "name": "stdout",
     "output_type": "stream",
     "text": [
      "['no' 'no' 'yes' 'yes' 'yes' 'no' 'yes' 'no' 'yes' 'yes']\n"
     ]
    }
   ],
   "source": [
    "#Training  data set consists of the first 10 rows\n",
    "target =data.values[:,4]\n",
    "print(target)"
   ]
  },
  {
   "cell_type": "code",
   "execution_count": 9,
   "metadata": {},
   "outputs": [
    {
     "name": "stdout",
     "output_type": "stream",
     "text": [
      "0.6   0.4\n"
     ]
    }
   ],
   "source": [
    "#For target variable\n",
    "c=0\n",
    "P_yes,P_no=0,0\n",
    "for i in target:\n",
    "    c=c+1\n",
    "    if i=='yes':\n",
    "        P_yes=P_yes+1;\n",
    "P_yes=P_yes/c\n",
    "P_no=1-P_yes\n",
    "print(P_yes,\" \",P_no)"
   ]
  },
  {
   "cell_type": "code",
   "execution_count": 10,
   "metadata": {},
   "outputs": [
    {
     "name": "stdout",
     "output_type": "stream",
     "text": [
      "none\n",
      "none\n",
      "none\n",
      "none\n",
      "none\n",
      "none\n",
      "none\n",
      "0.7142857142857143   0.2857142857142857\n",
      "0.3333333333333333   0.6666666666666667\n"
     ]
    }
   ],
   "source": [
    "#For class: Wind\n",
    "Wind_none_y,Wind_none_n, Wind_few_y, Wind_few_n=0,0,0,0\n",
    "n=0\n",
    "m=0\n",
    "counter=-1\n",
    "var=data.values[:,3]\n",
    "for i in var:\n",
    "    counter=counter+1\n",
    "    #print(target[counter])\n",
    "    if i=='none':\n",
    "        print(i)\n",
    "        n=n+1\n",
    "    if i=='none' and target[counter]=='yes':\n",
    "        Wind_none_y=Wind_none_y+1    \n",
    "    if i=='few':\n",
    "        m=m+1\n",
    "    if i=='few' and target[counter]=='yes':\n",
    "        Wind_few_y=Wind_few_y+1\n",
    "        \n",
    "Wind_none_y=Wind_none_y/n\n",
    "Wind_none_n=1-Wind_none_y\n",
    "Wind_few_y=Wind_few_y/m\n",
    "Wind_few_n=1-Wind_few_y\n",
    "\n",
    "print(Wind_none_y,\" \",Wind_none_n)\n",
    "print(Wind_few_y,\" \",Wind_few_n)\n"
   ]
  },
  {
   "cell_type": "code",
   "execution_count": 11,
   "metadata": {},
   "outputs": [],
   "source": [
    "#For class: Humidity\n",
    "Hu_high_y,Hu_high_n, Hu_medium_y, Hu_medium_n=0,0,0,0\n",
    "n=0\n",
    "m=0\n",
    "counter=-1\n",
    "var=data.values[:,2]\n",
    "for i in var:\n",
    "    counter=counter+1\n",
    "    #print(target[counter])\n",
    "    if i=='high':\n",
    "        #print(i)\n",
    "        n=n+1\n",
    "    if i=='high' and target[counter]=='yes':\n",
    "        Hu_high_y=Hu_high_y+1    \n",
    "    if i=='medium':\n",
    "        m=m+1\n",
    "    if i=='medium' and target[counter]=='yes':\n",
    "        Hu_medium_y=Hu_medium_y+1\n",
    "Hu_high_y=Hu_high_y/n\n",
    "Hu_high_n=1-Hu_high_y\n",
    "Hu_medium_y=Hu_medium_y/m\n",
    "Hu_medium_n=1-Hu_medium_y\n"
   ]
  },
  {
   "cell_type": "code",
   "execution_count": 12,
   "metadata": {},
   "outputs": [
    {
     "name": "stdout",
     "output_type": "stream",
     "text": [
      "['hot' 'hot' 'hot' 'warm' 'cold' 'cold' 'cold' 'warm' 'cold' 'warm']\n"
     ]
    }
   ],
   "source": [
    "#For class: Temperature\n",
    "temp_hot_y, temp_hot_n, temp_warm_y, temp_warm_n, temp_cold_y, temp_cold_n=0,0,0,0,0,0\n",
    "n=0\n",
    "m=0\n",
    "o=0\n",
    "counter=-1\n",
    "var=data.values[:,1]\n",
    "print(var)\n",
    "for i in var:\n",
    "    counter=counter+1\n",
    "    #print(target[counter])\n",
    "    if i=='hot':\n",
    "        #print(i)\n",
    "        n=n+1\n",
    "    if i=='hot' and target[counter]=='yes':\n",
    "        temp_hot_y=temp_hot_y+1\n",
    "    if i=='warm':\n",
    "        m=m+1\n",
    "        if target[counter]=='yes':\n",
    "            temp_warm_y=temp_warm_y+1\n",
    "    if i=='cold':\n",
    "        o=o+1\n",
    "        if target[counter]=='yes':\n",
    "            temp_cold_y=temp_cold_y+1\n",
    "temp_hot_y=temp_hot_y/n\n",
    "temp_hot_n= 1-temp_hot_y\n",
    "temp_warm_y=temp_warm_y/m\n",
    "temp_warm_n=1-temp_warm_y\n",
    "temp_cold_y=temp_cold_y/o\n",
    "temp_cold_n=1-temp_cold_y"
   ]
  },
  {
   "cell_type": "code",
   "execution_count": 13,
   "metadata": {},
   "outputs": [
    {
     "name": "stdout",
     "output_type": "stream",
     "text": [
      "['fine' 'fine' 'cloud' 'rain' 'rain' 'rain' 'cloud' 'fine' 'fine' 'rain']\n"
     ]
    }
   ],
   "source": [
    "#For class: Weather\n",
    "w_rain_y, w_rain_n, w_cloud_y, w_cloud_n, w_fine_y, w_fine_n=0,0,0,0,0,0\n",
    "n=0\n",
    "m=0\n",
    "o=0\n",
    "counter=-1\n",
    "var=data.values[:,0]\n",
    "print(var)\n",
    "for i in var:\n",
    "    counter=counter+1\n",
    "    #print(target[counter])\n",
    "    if i=='rain':\n",
    "        #print(i)\n",
    "        n=n+1\n",
    "        if target[counter]=='yes':\n",
    "            w_rain_y=w_rain_y+1\n",
    "    if i=='cloud':\n",
    "        m=m+1\n",
    "        if target[counter]=='yes':\n",
    "            w_cloud_y=w_cloud_y+1\n",
    "    if i=='fine':\n",
    "        o=o+1\n",
    "        if target[counter]=='yes':\n",
    "            w_fine_y=w_fine_y+1\n",
    "w_rain_y=w_rain_y/n\n",
    "w_rain_n=1-w_rain_y\n",
    "w_cloud_y=w_cloud_y/m\n",
    "w_cloud_n=1-w_cloud_y\n",
    "w_fine_y=w_fine_y/o\n",
    "w_fine_n=1-w_fine_y\n"
   ]
  },
  {
   "cell_type": "code",
   "execution_count": 16,
   "metadata": {},
   "outputs": [
    {
     "name": "stdout",
     "output_type": "stream",
     "text": [
      "   Weather Temperature Humidity  Wind Golf Play\n",
      "9     rain        warm   medium  none       yes\n",
      "10    fine        warm   medium   few       yes\n",
      "11   cloud        warm     high   few       yes\n",
      "12   cloud         hot   medium  none       yes\n",
      "13    rain        warm     high   few        no\n",
      "fine\n",
      "yes: 0.28571428571428575   no: 0.0047619047619047615\n",
      "ITERATION 0      PREDICTED: YES      ACTUAL:  yes\n",
      "yes: 0.04444444444444444   no: 0.03333333333333333\n",
      "ITERATION 1      PREDICTED: YES      ACTUAL:  yes\n",
      "yes: 0.08888888888888888   no: 0.0\n",
      "ITERATION 2      PREDICTED: YES      ACTUAL:  yes\n",
      "yes: 0.19047619047619047   no: 0.0\n",
      "ITERATION 3      PREDICTED: YES      ACTUAL:  yes\n",
      "yes: 0.06666666666666667   no: 0.03333333333333334\n",
      "ITERATION 4      PREDICTED: YES      ACTUAL:  no\n"
     ]
    }
   ],
   "source": [
    "#Prediction Based on the testing data set\n",
    "dataTest=dataMain.tail(5) #Making the test dataset\n",
    "print(dataTest)\n",
    "wY =[]\n",
    "tY =list()\n",
    "hY =list()\n",
    "wndY =list()\n",
    "result =list()\n",
    "pred=list()\n",
    "\n",
    "print(dataTest.loc[10]['Weather'])\n",
    "\n",
    "\n",
    "for i in range(10,15):\n",
    "    wY.append(dataTest.loc[i-1]['Weather'])\n",
    "    tY.append(dataTest.loc[i-1]['Temperature'])\n",
    "    hY.append(dataTest.loc[i-1]['Humidity'])\n",
    "    wndY.append(dataTest.loc[i-1]['Wind'])\n",
    "    result.append(dataTest.loc[i-1]['Golf Play'])\n",
    "\n",
    "    \n",
    "    \n",
    "for i in range(10,15):\n",
    "    w0='w_'+wY[i-10]+'_'\n",
    "    t0='temp_'+tY[i-10]+'_'\n",
    "    h0='Hu_'+hY[i-10]+'_'\n",
    "    wnd0='Wind_'+wndY[i-10]+'_'\n",
    "    yes=eval(w0+'y')*eval(t0+'y')*eval(h0+'y')*eval(wnd0+'y')\n",
    "    no=eval(w0+'n')*eval(t0+'n')*eval(h0+'n')*eval(wnd0+'n')\n",
    "    print(\"yes:\",yes,\"  no:\",no)\n",
    "    yes=P_yes*yes\n",
    "    no=P_no*no\n",
    "    if(yes>no):\n",
    "        print(\"ITERATION\",(i-10),\"     PREDICTED: YES      ACTUAL: \",result[i-10])\n",
    "        pred.append(1)\n",
    "    else:\n",
    "        print(\"ITERATION\",(i-10),\"     PREDICTED: NO      ACTUAL: \",result[i-10])\n",
    "        pred.append(0)\n",
    "    if(result[i-10]=='yes'):\n",
    "        result[i-10]=1\n",
    "    else:\n",
    "        result[i-10]=0\n",
    "   "
   ]
  },
  {
   "cell_type": "code",
   "execution_count": 37,
   "metadata": {},
   "outputs": [
    {
     "name": "stdout",
     "output_type": "stream",
     "text": [
      "LETS PREDICT WHETHER GOLF WILL BE PLAYED OR NOT\n",
      " Enter weather conditions (fine/rain/cloud):  fine\n",
      " Enter temperature conditions (hot/warm/cold):  warm\n",
      " Enter humidity conditions (high/medium):  high\n",
      " Enter wind conditions (none/few):  few\n",
      "0.4\n",
      "0.02222222222222222\n",
      "0.1\n",
      "0.01333333333333333\n",
      "0.04000000000000001\n"
     ]
    }
   ],
   "source": [
    "print(\"LETS PREDICT WHETHER GOLF WILL BE PLAYED OR NOT\")\n",
    "w=input(\" Enter weather conditions (fine/rain/cloud):  \")\n",
    "t=input(\" Enter temperature conditions (hot/warm/cold):  \")\n",
    "h=input(\" Enter humidity conditions (high/medium):  \")\n",
    "wnd=input(\" Enter wind conditions (none/few):  \")\n",
    "wY='w_'+w+'_'\n",
    "tY='temp_'+t+'_'\n",
    "hY='Hu_'+h+'_'\n",
    "wndY='Wind_'+wnd+'_'\n",
    "print(Hu_high_y)\n",
    "yes=eval(wY+'y')*eval(tY+'y')*eval(hY+'y')*eval(wndY+'y')\n",
    "no=eval(wY+'n')*eval(tY+'n')*eval(hY+'n')*eval(wndY+'n')\n",
    "print(yes)\n",
    "print(no)\n",
    "yes=P_yes*yes\n",
    "no=P_no*no\n",
    "print(yes)\n",
    "print(no)"
   ]
  },
  {
   "cell_type": "code",
   "execution_count": 38,
   "metadata": {},
   "outputs": [
    {
     "name": "stdout",
     "output_type": "stream",
     "text": [
      "GOLF WILL NOT BE PLAYED\n"
     ]
    }
   ],
   "source": [
    "if(yes>no):\n",
    "    print(\"GOLF WILL BE PLAYED\")\n",
    "else:\n",
    "    print(\"GOLF WILL NOT BE PLAYED\")"
   ]
  },
  {
   "cell_type": "code",
   "execution_count": 21,
   "metadata": {},
   "outputs": [],
   "source": []
  },
  {
   "cell_type": "code",
   "execution_count": 25,
   "metadata": {},
   "outputs": [
    {
     "name": "stdout",
     "output_type": "stream",
     "text": [
      "[[0 1]\n",
      " [0 4]]\n"
     ]
    }
   ],
   "source": [
    "from sklearn.metrics import confusion_matrix\n",
    "cm = confusion_matrix(result, pred)\n",
    "print(cm)"
   ]
  },
  {
   "cell_type": "code",
   "execution_count": 29,
   "metadata": {},
   "outputs": [
    {
     "data": {
      "text/plain": [
       "<matplotlib.axes._subplots.AxesSubplot at 0x7fa6f66eb2b0>"
      ]
     },
     "execution_count": 29,
     "metadata": {},
     "output_type": "execute_result"
    },
    {
     "data": {
      "image/png": "[encoded data removed]",
      "text/plain": [
       "<Figure size 360x216 with 2 Axes>"
      ]
     },
     "metadata": {
      "needs_background": "light"
     },
     "output_type": "display_data"
    }
   ],
   "source": [
    "import seaborn as sn\n",
    "df_cm = pd.DataFrame(cm, index = [i for i in \"AB\"],\n",
    "                  columns = [i for i in \"AB\"])\n",
    "plt.figure(figsize = (5,3))\n",
    "sn.heatmap(df_cm, annot=True)"
   ]
  },
  {
   "cell_type": "code",
   "execution_count": 32,
   "metadata": {},
   "outputs": [
    {
     "name": "stdout",
     "output_type": "stream",
     "text": [
      "Accuracy: 0.8\n"
     ]
    }
   ],
   "source": [
    "from sklearn import metrics\n",
    "print(\"Accuracy:\",metrics.accuracy_score(result, pred))"
   ]
  },
  {
   "cell_type": "code",
   "execution_count": null,
   "metadata": {},
   "outputs": [],
   "source": []
  }
 ],
 "metadata": {
  "kernelspec": {
   "display_name": "Python 3",
   "language": "python",
   "name": "python3"
  },
  "language_info": {
   "codemirror_mode": {
    "name": "ipython",
    "version": 3
   },
   "file_extension": ".py",
   "mimetype": "text/x-python",
   "name": "python",
   "nbconvert_exporter": "python",
   "pygments_lexer": "ipython3",
   "version": "3.7.1"
  }
 },
 "nbformat": 4,
 "nbformat_minor": 2
}
