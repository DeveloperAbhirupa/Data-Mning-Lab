{
 "cells": [
  {
   "cell_type": "code",
   "execution_count": 26,
   "metadata": {},
   "outputs": [],
   "source": [
    "import pandas as pd\n",
    "import numpy as np\n",
    "import matplotlib.pyplot as plt\n",
    "data = pd.read_csv('data.csv')"
   ]
  },
  {
   "cell_type": "code",
   "execution_count": 27,
   "metadata": {},
   "outputs": [
    {
     "data": {
      "text/html": [
       "<div>\n",
       "<style scoped>\n",
       "    .dataframe tbody tr th:only-of-type {\n",
       "        vertical-align: middle;\n",
       "    }\n",
       "\n",
       "    .dataframe tbody tr th {\n",
       "        vertical-align: top;\n",
       "    }\n",
       "\n",
       "    .dataframe thead th {\n",
       "        text-align: right;\n",
       "    }\n",
       "</style>\n",
       "<table border=\"1\" class=\"dataframe\">\n",
       "  <thead>\n",
       "    <tr style=\"text-align: right;\">\n",
       "      <th></th>\n",
       "      <th>Weather</th>\n",
       "      <th>Temperature</th>\n",
       "      <th>Humidity</th>\n",
       "      <th>Wind</th>\n",
       "      <th>Golf Play</th>\n",
       "    </tr>\n",
       "  </thead>\n",
       "  <tbody>\n",
       "    <tr>\n",
       "      <th>0</th>\n",
       "      <td>fine</td>\n",
       "      <td>hot</td>\n",
       "      <td>high</td>\n",
       "      <td>none</td>\n",
       "      <td>no</td>\n",
       "    </tr>\n",
       "    <tr>\n",
       "      <th>1</th>\n",
       "      <td>fine</td>\n",
       "      <td>hot</td>\n",
       "      <td>high</td>\n",
       "      <td>few</td>\n",
       "      <td>no</td>\n",
       "    </tr>\n",
       "    <tr>\n",
       "      <th>2</th>\n",
       "      <td>cloud</td>\n",
       "      <td>hot</td>\n",
       "      <td>high</td>\n",
       "      <td>none</td>\n",
       "      <td>yes</td>\n",
       "    </tr>\n",
       "    <tr>\n",
       "      <th>3</th>\n",
       "      <td>rain</td>\n",
       "      <td>warm</td>\n",
       "      <td>high</td>\n",
       "      <td>none</td>\n",
       "      <td>yes</td>\n",
       "    </tr>\n",
       "    <tr>\n",
       "      <th>4</th>\n",
       "      <td>rain</td>\n",
       "      <td>cold</td>\n",
       "      <td>medium</td>\n",
       "      <td>none</td>\n",
       "      <td>yes</td>\n",
       "    </tr>\n",
       "  </tbody>\n",
       "</table>\n",
       "</div>"
      ],
      "text/plain": [
       "  Weather Temperature Humidity  Wind Golf Play\n",
       "0    fine         hot     high  none        no\n",
       "1    fine         hot     high   few        no\n",
       "2   cloud         hot     high  none       yes\n",
       "3    rain        warm     high  none       yes\n",
       "4    rain        cold   medium  none       yes"
      ]
     },
     "execution_count": 27,
     "metadata": {},
     "output_type": "execute_result"
    }
   ],
   "source": [
    "data.head()\n"
   ]
  },
  {
   "cell_type": "code",
   "execution_count": 28,
   "metadata": {},
   "outputs": [
    {
     "name": "stdout",
     "output_type": "stream",
     "text": [
      "['no' 'no' 'yes' 'yes' 'yes' 'no' 'yes' 'no' 'yes' 'yes' 'yes' 'yes' 'yes'\n",
      " 'no']\n"
     ]
    }
   ],
   "source": [
    "target =data.values[:,4]\n",
    "print(target)"
   ]
  },
  {
   "cell_type": "code",
   "execution_count": 29,
   "metadata": {},
   "outputs": [
    {
     "name": "stdout",
     "output_type": "stream",
     "text": [
      "0.6428571428571429   0.3571428571428571\n"
     ]
    }
   ],
   "source": [
    "#For target variable\n",
    "c=0\n",
    "P_yes,P_no=0,0\n",
    "for i in target:\n",
    "    c=c+1\n",
    "    if i=='yes':\n",
    "        P_yes=P_yes+1;\n",
    "P_yes=P_yes/c\n",
    "P_no=1-P_yes\n",
    "print(P_yes,\" \",P_no)"
   ]
  },
  {
   "cell_type": "code",
   "execution_count": 30,
   "metadata": {},
   "outputs": [
    {
     "name": "stdout",
     "output_type": "stream",
     "text": [
      "none\n",
      "none\n",
      "none\n",
      "none\n",
      "none\n",
      "none\n",
      "none\n",
      "none\n",
      "0.75   0.25\n",
      "0.5   0.5\n"
     ]
    }
   ],
   "source": [
    "#For class: Wind\n",
    "Wind_none_y,Wind_none_n, Wind_few_y, Wind_few_n=0,0,0,0\n",
    "n=0\n",
    "m=0\n",
    "counter=-1\n",
    "var=data.values[:,3]\n",
    "for i in var:\n",
    "    counter=counter+1\n",
    "    #print(target[counter])\n",
    "    if i=='none':\n",
    "        print(i)\n",
    "        n=n+1\n",
    "    if i=='none' and target[counter]=='yes':\n",
    "        Wind_none_y=Wind_none_y+1    \n",
    "    if i=='few':\n",
    "        m=m+1\n",
    "    if i=='few' and target[counter]=='yes':\n",
    "        Wind_few_y=Wind_few_y+1\n",
    "        \n",
    "Wind_none_y=Wind_none_y/n\n",
    "Wind_none_n=1-Wind_none_y\n",
    "Wind_few_y=Wind_few_y/m\n",
    "Wind_few_n=1-Wind_few_y\n",
    "\n",
    "print(Wind_none_y,\" \",Wind_none_n)\n",
    "print(Wind_few_y,\" \",Wind_few_n)\n"
   ]
  },
  {
   "cell_type": "code",
   "execution_count": 31,
   "metadata": {},
   "outputs": [],
   "source": [
    "#For class: Humidity\n",
    "Hu_high_y,Hu_high_n, Hu_medium_y, Hu_medium_n=0,0,0,0\n",
    "n=0\n",
    "m=0\n",
    "counter=-1\n",
    "var=data.values[:,2]\n",
    "for i in var:\n",
    "    counter=counter+1\n",
    "    #print(target[counter])\n",
    "    if i=='high':\n",
    "        #print(i)\n",
    "        n=n+1\n",
    "    if i=='high' and target[counter]=='yes':\n",
    "        Hu_high_y=Hu_high_y+1    \n",
    "    if i=='medium':\n",
    "        m=m+1\n",
    "    if i=='medium' and target[counter]=='yes':\n",
    "        Hu_medium_y=Hu_medium_y+1\n",
    "Hu_high_y=Hu_high_y/n\n",
    "Hu_high_n=1-Hu_high_y\n",
    "Hu_medium_y=Hu_medium_y/m\n",
    "Hu_medium_n=1-Hu_medium_y\n"
   ]
  },
  {
   "cell_type": "code",
   "execution_count": 32,
   "metadata": {},
   "outputs": [
    {
     "name": "stdout",
     "output_type": "stream",
     "text": [
      "['hot' 'hot' 'hot' 'warm' 'cold' 'cold' 'cold' 'warm' 'cold' 'warm' 'warm'\n",
      " 'warm' 'hot' 'warm']\n"
     ]
    }
   ],
   "source": [
    "#For class: Temperature\n",
    "temp_hot_y, temp_hot_n, temp_warm_y, temp_warm_n, temp_cold_y, temp_cold_n=0,0,0,0,0,0\n",
    "n=0\n",
    "m=0\n",
    "o=0\n",
    "counter=-1\n",
    "var=data.values[:,1]\n",
    "print(var)\n",
    "for i in var:\n",
    "    counter=counter+1\n",
    "    #print(target[counter])\n",
    "    if i=='hot':\n",
    "        #print(i)\n",
    "        n=n+1\n",
    "    if i=='hot' and target[counter]=='yes':\n",
    "        temp_hot_y=temp_hot_y+1\n",
    "    if i=='warm':\n",
    "        m=m+1\n",
    "        if target[counter]=='yes':\n",
    "            temp_warm_y=temp_warm_y+1\n",
    "    if i=='cold':\n",
    "        o=o+1\n",
    "        if target[counter]=='yes':\n",
    "            temp_cold_y=temp_cold_y+1\n",
    "temp_hot_y=temp_hot_y/n\n",
    "temp_hot_n= 1-temp_hot_y\n",
    "temp_warm_y=temp_warm_y/m\n",
    "temp_warm_n=1-temp_warm_y\n",
    "temp_cold_y=temp_cold_y/o\n",
    "temp_cold_n=1-temp_cold_y"
   ]
  },
  {
   "cell_type": "code",
   "execution_count": 33,
   "metadata": {},
   "outputs": [
    {
     "name": "stdout",
     "output_type": "stream",
     "text": [
      "['fine' 'fine' 'cloud' 'rain' 'rain' 'rain' 'cloud' 'fine' 'fine' 'rain'\n",
      " 'fine' 'cloud' 'cloud' 'rain']\n"
     ]
    }
   ],
   "source": [
    "#For class: Weather\n",
    "w_rain_y, w_rain_n, w_cloud_y, w_cloud_n, w_fine_y, w_fine_n=0,0,0,0,0,0\n",
    "n=0\n",
    "m=0\n",
    "o=0\n",
    "counter=-1\n",
    "var=data.values[:,0]\n",
    "print(var)\n",
    "for i in var:\n",
    "    counter=counter+1\n",
    "    #print(target[counter])\n",
    "    if i=='rain':\n",
    "        #print(i)\n",
    "        n=n+1\n",
    "        if target[counter]=='yes':\n",
    "            w_rain_y=w_rain_y+1\n",
    "    if i=='cloud':\n",
    "        m=m+1\n",
    "        if target[counter]=='yes':\n",
    "            w_cloud_y=w_cloud_y+1\n",
    "    if i=='fine':\n",
    "        o=o+1\n",
    "        if target[counter]=='yes':\n",
    "            w_fine_y=w_fine_y+1\n",
    "w_rain_y=w_rain_y/n\n",
    "w_rain_n=1-w_rain_y\n",
    "w_cloud_y=w_cloud_y/m\n",
    "w_cloud_n=1-w_cloud_y\n",
    "w_fine_y=w_fine_y/o\n",
    "w_fine_n=1-w_fine_y\n"
   ]
  },
  {
   "cell_type": "code",
   "execution_count": 36,
   "metadata": {},
   "outputs": [
    {
     "name": "stdout",
     "output_type": "stream",
     "text": [
      "LETS PREDICT WHETHER GOLF WILL BE PLAYED OR NOT\n",
      " Enter weather conditions (fine/rain/cloud):  fine\n",
      " Enter temperature conditions (hot/warm/cold):  hot\n",
      " Enter humidity conditions (high/medium):  high\n",
      " Enter wind conditions (none/few):  none\n",
      "0.3333333333333333\n",
      "0.05\n",
      "0.05\n",
      "0.03214285714285715\n",
      "0.017857142857142856\n"
     ]
    }
   ],
   "source": [
    "print(\"LETS PREDICT WHETHER GOLF WILL BE PLAYED OR NOT\")\n",
    "w=input(\" Enter weather conditions (fine/rain/cloud):  \")\n",
    "t=input(\" Enter temperature conditions (hot/warm/cold):  \")\n",
    "h=input(\" Enter humidity conditions (high/medium):  \")\n",
    "wnd=input(\" Enter wind conditions (none/few):  \")\n",
    "wY='w_'+w+'_'\n",
    "tY='temp_'+t+'_'\n",
    "hY='Hu_'+h+'_'\n",
    "wndY='Wind_'+wnd+'_'\n",
    "print(Hu_high_y)\n",
    "yes=eval(wY+'y')*eval(tY+'y')*eval(hY+'y')*eval(wndY+'y')\n",
    "no=eval(wY+'n')*eval(tY+'n')*eval(hY+'n')*eval(wndY+'n')\n",
    "print(yes)\n",
    "print(no)\n",
    "yes=P_yes*yes\n",
    "no=P_no*no\n",
    "print(yes)\n",
    "print(no)"
   ]
  },
  {
   "cell_type": "code",
   "execution_count": 37,
   "metadata": {},
   "outputs": [
    {
     "name": "stdout",
     "output_type": "stream",
     "text": [
      "GOLF WILL BE PLAYED\n"
     ]
    }
   ],
   "source": [
    "if(yes>no):\n",
    "    print(\"GOLF WILL BE PLAYED\")\n",
    "else:\n",
    "    print(\"GOLF WILL NOT BE PLAYED\")"
   ]
  },
  {
   "cell_type": "code",
   "execution_count": null,
   "metadata": {},
   "outputs": [],
   "source": []
  }
 ],
 "metadata": {
  "kernelspec": {
   "display_name": "Python 3",
   "language": "python",
   "name": "python3"
  },
  "language_info": {
   "codemirror_mode": {
    "name": "ipython",
    "version": 3
   },
   "file_extension": ".py",
   "mimetype": "text/x-python",
   "name": "python",
   "nbconvert_exporter": "python",
   "pygments_lexer": "ipython3",
   "version": "3.7.1"
  }
 },
 "nbformat": 4,
 "nbformat_minor": 2
}
