{
 "cells": [
  {
   "cell_type": "code",
   "execution_count": 1,
   "metadata": {},
   "outputs": [],
   "source": [
    "import pandas as pd\n",
    "import numpy as np\n",
    "import matplotlib.pyplot as plt\n",
    "data = pd.read_csv('data.csv')"
   ]
  },
  {
   "cell_type": "code",
   "execution_count": 2,
   "metadata": {},
   "outputs": [
    {
     "data": {
      "text/html": [
       "<div>\n",
       "<style scoped>\n",
       "    .dataframe tbody tr th:only-of-type {\n",
       "        vertical-align: middle;\n",
       "    }\n",
       "\n",
       "    .dataframe tbody tr th {\n",
       "        vertical-align: top;\n",
       "    }\n",
       "\n",
       "    .dataframe thead th {\n",
       "        text-align: right;\n",
       "    }\n",
       "</style>\n",
       "<table border=\"1\" class=\"dataframe\">\n",
       "  <thead>\n",
       "    <tr style=\"text-align: right;\">\n",
       "      <th></th>\n",
       "      <th>Weather</th>\n",
       "      <th>Temperature</th>\n",
       "      <th>Humidity</th>\n",
       "      <th>Wind</th>\n",
       "      <th>Golf Play</th>\n",
       "    </tr>\n",
       "  </thead>\n",
       "  <tbody>\n",
       "    <tr>\n",
       "      <th>0</th>\n",
       "      <td>fine</td>\n",
       "      <td>hot</td>\n",
       "      <td>high</td>\n",
       "      <td>none</td>\n",
       "      <td>no</td>\n",
       "    </tr>\n",
       "    <tr>\n",
       "      <th>1</th>\n",
       "      <td>fine</td>\n",
       "      <td>hot</td>\n",
       "      <td>high</td>\n",
       "      <td>few</td>\n",
       "      <td>no</td>\n",
       "    </tr>\n",
       "    <tr>\n",
       "      <th>2</th>\n",
       "      <td>cloud</td>\n",
       "      <td>hot</td>\n",
       "      <td>high</td>\n",
       "      <td>none</td>\n",
       "      <td>yes</td>\n",
       "    </tr>\n",
       "    <tr>\n",
       "      <th>3</th>\n",
       "      <td>rain</td>\n",
       "      <td>warm</td>\n",
       "      <td>high</td>\n",
       "      <td>none</td>\n",
       "      <td>yes</td>\n",
       "    </tr>\n",
       "    <tr>\n",
       "      <th>4</th>\n",
       "      <td>rain</td>\n",
       "      <td>cold</td>\n",
       "      <td>medium</td>\n",
       "      <td>none</td>\n",
       "      <td>yes</td>\n",
       "    </tr>\n",
       "  </tbody>\n",
       "</table>\n",
       "</div>"
      ],
      "text/plain": [
       "  Weather Temperature Humidity  Wind Golf Play\n",
       "0    fine         hot     high  none        no\n",
       "1    fine         hot     high   few        no\n",
       "2   cloud         hot     high  none       yes\n",
       "3    rain        warm     high  none       yes\n",
       "4    rain        cold   medium  none       yes"
      ]
     },
     "execution_count": 2,
     "metadata": {},
     "output_type": "execute_result"
    }
   ],
   "source": [
    "data.head()\n"
   ]
  },
  {
   "cell_type": "code",
   "execution_count": 3,
   "metadata": {},
   "outputs": [
    {
     "name": "stdout",
     "output_type": "stream",
     "text": [
      "['no' 'no' 'yes' 'yes' 'yes' 'no' 'yes' 'no' 'yes' 'yes' 'yes' 'yes' 'yes'\n",
      " 'no']\n"
     ]
    }
   ],
   "source": [
    "target =data.values[:,4]\n",
    "print(target)"
   ]
  },
  {
   "cell_type": "code",
   "execution_count": 4,
   "metadata": {},
   "outputs": [
    {
     "name": "stdout",
     "output_type": "stream",
     "text": [
      "0.6428571428571429   0.3571428571428571\n"
     ]
    }
   ],
   "source": [
    "#For target variable\n",
    "c=0\n",
    "P_yes,P_no=0,0\n",
    "for i in target:\n",
    "    c=c+1\n",
    "    if i=='yes':\n",
    "        P_yes=P_yes+1;\n",
    "P_yes=P_yes/c\n",
    "P_no=1-P_yes\n",
    "print(P_yes,\" \",P_no)"
   ]
  },
  {
   "cell_type": "code",
   "execution_count": 5,
   "metadata": {},
   "outputs": [
    {
     "name": "stdout",
     "output_type": "stream",
     "text": [
      "none\n",
      "none\n",
      "none\n",
      "none\n",
      "none\n",
      "none\n",
      "none\n",
      "none\n",
      "0.75   0.25\n",
      "0.5   0.5\n"
     ]
    }
   ],
   "source": [
    "#For class: Wind\n",
    "Wind_none_y,Wind_none_n, Wind_few_y, Wind_few_n=0,0,0,0\n",
    "n=0\n",
    "m=0\n",
    "counter=-1\n",
    "var=data.values[:,3]\n",
    "for i in var:\n",
    "    counter=counter+1\n",
    "    #print(target[counter])\n",
    "    if i=='none':\n",
    "        print(i)\n",
    "        n=n+1\n",
    "    if i=='none' and target[counter]=='yes':\n",
    "        Wind_none_y=Wind_none_y+1    \n",
    "    if i=='few':\n",
    "        m=m+1\n",
    "    if i=='few' and target[counter]=='yes':\n",
    "        Wind_few_y=Wind_few_y+1\n",
    "        \n",
    "Wind_none_y=Wind_none_y/n\n",
    "Wind_none_n=1-Wind_none_y\n",
    "Wind_few_y=Wind_few_y/m\n",
    "Wind_few_n=1-Wind_few_y\n",
    "\n",
    "print(Wind_none_y,\" \",Wind_none_n)\n",
    "print(Wind_few_y,\" \",Wind_few_n)\n"
   ]
  },
  {
   "cell_type": "code",
   "execution_count": 7,
   "metadata": {},
   "outputs": [],
   "source": [
    "#For class: Humidity\n",
    "Hu_hi_y,Hu_hi_n, Hu_med_y, Hu_med_n=0,0,0,0\n",
    "n=0\n",
    "m=0\n",
    "counter=-1\n",
    "var=data.values[:,2]\n",
    "for i in var:\n",
    "    counter=counter+1\n",
    "    #print(target[counter])\n",
    "    if i=='high':\n",
    "        #print(i)\n",
    "        n=n+1\n",
    "    if i=='high' and target[counter]=='yes':\n",
    "        Hu_hi_y=Hu_hi_y+1    \n",
    "    if i=='medium':\n",
    "        m=m+1\n",
    "    if i=='medium' and target[counter]=='yes':\n",
    "        Wind_few_y=Wind_few_y+1\n",
    "Hu_hi_y=Hu_hi_y/n\n",
    "Hu_hi_n=1-Hu_hi_y\n",
    "Hu_med_y=Hu_med_y/m\n",
    "Hu_med_n=1-Hu_med_y\n"
   ]
  },
  {
   "cell_type": "code",
   "execution_count": null,
   "metadata": {},
   "outputs": [],
   "source": [
    "#For class: Temperature\n",
    "temp_hot_y, temp_hot_n, temp_warm_y, temp_warm_n, temp_cold_y, temp_cold_n=0,0,0,0\n",
    "n=0\n",
    "m=0\n",
    "counter=-1\n",
    "var=data.values[:,2]\n",
    "for i in var:\n",
    "    counter=counter+1\n",
    "    #print(target[counter])\n",
    "    if i=='high':\n",
    "        #print(i)\n",
    "        n=n+1\n",
    "    if i=='high' and target[counter]=='yes':\n",
    "        Hu_hi_y=Hu_hi_y+1    \n",
    "    if i=='medium':\n",
    "        m=m+1\n",
    "    if i=='medium' and target[counter]=='yes':\n",
    "        Wind_few_y=Wind_few_y+1\n",
    "Hu_hi_y=Hu_hi_y/n\n",
    "Hu_hi_n=1-Hu_hi_y\n",
    "Hu_med_y=Hu_med_y/m\n",
    "Hu_med_n=1-Hu_med_y"
   ]
  }
 ],
 "metadata": {
  "kernelspec": {
   "display_name": "Python 3",
   "language": "python",
   "name": "python3"
  },
  "language_info": {
   "codemirror_mode": {
    "name": "ipython",
    "version": 3
   },
   "file_extension": ".py",
   "mimetype": "text/x-python",
   "name": "python",
   "nbconvert_exporter": "python",
   "pygments_lexer": "ipython3",
   "version": "3.7.1"
  }
 },
 "nbformat": 4,
 "nbformat_minor": 2
}
