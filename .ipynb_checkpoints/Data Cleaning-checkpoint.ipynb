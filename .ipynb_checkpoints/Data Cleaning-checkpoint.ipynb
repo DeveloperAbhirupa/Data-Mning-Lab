{
 "cells": [
  {
   "cell_type": "code",
   "execution_count": 13,
   "metadata": {},
   "outputs": [],
   "source": [
    "import pandas as pd\n",
    "import numpy as np\n",
    "import matplotlib.pyplot as plt\n",
    "\n",
    "header= ['age', 'bp', 'sg', 'al', 'su', 'rbc', 'pc', 'pcc', 'ba', 'bgr', 'bu', 'sc', 'sod', 'pot', 'hemo', 'pcv', 'wc', 'rc', 'htn', 'dm', 'cad', 'appet', 'pe', 'ane', 'classification']\n",
    "data = pd.read_csv(\"Chronic_Kidney_Disease/chronic_kidney_disease.arff\", header=None, names=header)\n",
    "1"
   ]
  },
  {
   "cell_type": "code",
   "execution_count": 14,
   "metadata": {},
   "outputs": [
    {
     "name": "stdout",
     "output_type": "stream",
     "text": [
      "Total samples: 157\n",
      "Partial Data:\n",
      "    age  bp     sg al su       rbc        pc         pcc\n",
      "30  48  70  1.005  4  0    normal  abnormal     present\n",
      "36  53  90  1.020  2  0  abnormal  abnormal     present\n",
      "38  63  70  1.010  3  0  abnormal  abnormal     present\n",
      "41  68  80  1.010  3  2    normal  abnormal     present\n",
      "47  61  80  1.015  2  0  abnormal  abnormal  notpresent\n",
      "49  48  80  1.025  4  0    normal  abnormal  notpresent\n",
      "54  69  70  1.010  3  4    normal  abnormal  notpresent\n",
      "75  73  70  1.005  0  0    normal    normal  notpresent\n"
     ]
    }
   ],
   "source": [
    "data = data.replace('?',np.nan) #Replaces fields with ? with NaN\n",
    "data = data.dropna(axis=0, how=\"any\") #drop the NaN\n",
    " \n",
    "print(\"Total samples:\", len(data))    #print total samples\n",
    "print(\"Partial Data:\\n\", data.iloc[0:8, 0:8])\n",
    "\n"
   ]
  },
  {
   "cell_type": "code",
   "execution_count": 15,
   "metadata": {},
   "outputs": [
    {
     "name": "stdout",
     "output_type": "stream",
     "text": [
      "['red', 'red', 'red', 'red', 'red', 'red', 'red', 'red', 'red', 'red', 'red', 'red', 'red', 'red', 'red', 'red', 'red', 'red', 'red', 'red'] ['green', 'green', 'green', 'green', 'green', 'green', 'green', 'green', 'green']\n"
     ]
    }
   ],
   "source": [
    "#Labelling classification data\n",
    "targets= data['classification'].astype('category')\n",
    "label = ['red' if i =='ckd' else 'green' for i in targets]\n",
    "print(label[0:20],label[-10:-1])\n"
   ]
  },
  {
   "cell_type": "code",
   "execution_count": 20,
   "metadata": {},
   "outputs": [
    {
     "data": {
      "image/png": "[encoded data removed]",
      "text/plain": [
       "<Figure size 432x288 with 1 Axes>"
      ]
     },
     "metadata": {
      "needs_background": "light"
     },
     "output_type": "display_data"
    },
    {
     "data": {
      "text/plain": [
       "<Figure size 1440x7200 with 0 Axes>"
      ]
     },
     "metadata": {},
     "output_type": "display_data"
    }
   ],
   "source": [
    "plt.scatter(data['age'][0:150], label[0:150])\n",
    "plt.title(\"Classification Data Plot\")\n",
    "plt.figure(figsize=(20,100))\n",
    "plt.show()\n"
   ]
  },
  {
   "cell_type": "code",
   "execution_count": null,
   "metadata": {},
   "outputs": [],
   "source": []
  }
 ],
 "metadata": {
  "kernelspec": {
   "display_name": "Python 3",
   "language": "python",
   "name": "python3"
  },
  "language_info": {
   "codemirror_mode": {
    "name": "ipython",
    "version": 3
   },
   "file_extension": ".py",
   "mimetype": "text/x-python",
   "name": "python",
   "nbconvert_exporter": "python",
   "pygments_lexer": "ipython3",
   "version": "3.7.0"
  }
 },
 "nbformat": 4,
 "nbformat_minor": 2
}
