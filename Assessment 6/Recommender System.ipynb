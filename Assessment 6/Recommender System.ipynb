{
 "cells": [
  {
   "cell_type": "code",
   "execution_count": 2,
   "metadata": {},
   "outputs": [
    {
     "ename": "NameError",
     "evalue": "name 'input_file' is not defined",
     "output_type": "error",
     "traceback": [
      "\u001b[0;31m---------------------------------------------------------------------------\u001b[0m",
      "\u001b[0;31mNameError\u001b[0m                                 Traceback (most recent call last)",
      "\u001b[0;32m<ipython-input-2-8f3b8bae98f8>\u001b[0m in \u001b[0;36m<module>\u001b[0;34m()\u001b[0m\n\u001b[1;32m      1\u001b[0m \u001b[0;32mimport\u001b[0m \u001b[0mpandas\u001b[0m \u001b[0;32mas\u001b[0m \u001b[0mpd\u001b[0m\u001b[0;34m\u001b[0m\u001b[0;34m\u001b[0m\u001b[0m\n\u001b[0;32m----> 2\u001b[0;31m ratings_df = pd.read_csv(input_file,\n\u001b[0m\u001b[1;32m      3\u001b[0m                          \u001b[0msep\u001b[0m\u001b[0;34m=\u001b[0m\u001b[0margs\u001b[0m\u001b[0;34m[\u001b[0m\u001b[0;34m'delimiter'\u001b[0m\u001b[0;34m]\u001b[0m\u001b[0;34m,\u001b[0m\u001b[0;34m\u001b[0m\u001b[0;34m\u001b[0m\u001b[0m\n\u001b[1;32m      4\u001b[0m                          \u001b[0mnames\u001b[0m\u001b[0;34m=\u001b[0m\u001b[0mheaders\u001b[0m\u001b[0;34m,\u001b[0m\u001b[0;34m\u001b[0m\u001b[0;34m\u001b[0m\u001b[0m\n\u001b[1;32m      5\u001b[0m                          \u001b[0mheader\u001b[0m\u001b[0;34m=\u001b[0m\u001b[0mheader_row\u001b[0m\u001b[0;34m,\u001b[0m\u001b[0;34m\u001b[0m\u001b[0;34m\u001b[0m\u001b[0m\n",
      "\u001b[0;31mNameError\u001b[0m: name 'input_file' is not defined"
     ]
    }
   ],
   "source": [
    "import pandas as pd\n",
    "ratings_df = pd.read_csv(input_file,\n",
    "                         sep=args['delimiter'],\n",
    "                         names=headers,\n",
    "                         header=header_row,\n",
    "                         dtype={\n",
    "                           'user_id': np.int32,\n",
    "                           'item_id': np.int32,\n",
    "                           'rating': np.float32,\n",
    "                           'timestamp': np.int32,\n",
    "                         })\n",
    "ratings = ratings_df.as_matrix(['user_id', 'item_id', 'rating'])\n",
    "# deal with 1-based user indices\n",
    "ratings[:,0] -= 1\n",
    "ratings[:,1] -= 1\n",
    "\n",
    "np_items = ratings_df.item_id.as_matrix()\n",
    "unique_items = np.unique(np_items)\n",
    "n_items = unique_items.shape[0]\n",
    "max_item = unique_items[-1]\n",
    "\n",
    "# map unique items down to an array 0..n_items-1\n",
    "z = np.zeros(max_item+1, dtype=int)\n",
    "z[unique_items] = np.arange(n_items)\n",
    "i_r = z[np_items]\n",
    "\n",
    "test_set_size = len(ratings) / TEST_SET_RATIO\n",
    "test_set_idx = np.random.choice(xrange(len(ratings)),\n",
    "                                size=test_set_size, replace=False)\n",
    "test_set_idx = sorted(test_set_idx)\n",
    "\n",
    "ts_ratings = ratings[test_set_idx]\n",
    "tr_ratings = np.delete(ratings, test_set_idx, axis=0)\n",
    "\n",
    "u_tr, i_tr, r_tr = zip(*tr_ratings)\n",
    "tr_sparse = coo_matrix((r_tr, (u_tr, i_tr)), shape=(n_users, n_items))\n",
    "\n",
    "# Implementing the WALS algorithm in TensorFlow\n",
    "input_tensor = tf.SparseTensor(indices=zip(data.row, data.col),\n",
    "                                values=(data.data).astype(np.float32),\n",
    "                                dense_shape=data.shape)\n",
    "model = factorization_ops.WALSModel(num_rows, num_cols, dim,\n",
    "                                    unobserved_weight=unobs,\n",
    "                                    regularization=reg,\n",
    "                                    row_weights=row_wts,\n",
    "                                    col_weights=col_wts)\n",
    "# retrieve the row and column factors\n",
    "row_factor = model.row_factors[0]\n",
    "col_factor = model.col_factors[0]\n",
    "\n",
    "row_update_op = model.update_row_factors(sp_input=input_tensor)[1]\n",
    "col_update_op = model.update_col_factors(sp_input=input_tensor)[1]\n",
    "\n",
    "sess.run(model.initialize_op)\n",
    "sess.run(model.worker_init)\n",
    "for _ in xrange(num_iterations):\n",
    "    sess.run(model.row_update_prep_gramian_op)\n",
    "    sess.run(model.initialize_row_update_op)\n",
    "    sess.run(row_update_op)\n",
    "    sess.run(model.col_update_prep_gramian_op)\n",
    "    sess.run(model.initialize_col_update_op)\n",
    "    sess.run(col_update_op)\n",
    "    \n",
    "#  evaluate output factor matrices\n",
    "output_row = row_factor.eval(session=session)\n",
    "output_col = col_factor.eval(session=session)"
   ]
  },
  {
   "cell_type": "code",
   "execution_count": null,
   "metadata": {},
   "outputs": [],
   "source": []
  }
 ],
 "metadata": {
  "kernelspec": {
   "display_name": "Python 3",
   "language": "python",
   "name": "python3"
  },
  "language_info": {
   "codemirror_mode": {
    "name": "ipython",
    "version": 3
   },
   "file_extension": ".py",
   "mimetype": "text/x-python",
   "name": "python",
   "nbconvert_exporter": "python",
   "pygments_lexer": "ipython3",
   "version": "3.7.1"
  }
 },
 "nbformat": 4,
 "nbformat_minor": 2
}
